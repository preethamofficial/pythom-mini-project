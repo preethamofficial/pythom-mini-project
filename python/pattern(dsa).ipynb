{
 "cells": [
  {
   "cell_type": "code",
   "execution_count": 12,
   "id": "5c027681-ca0c-415f-a742-2352a49bdf25",
   "metadata": {},
   "outputs": [
    {
     "data": {
      "text/plain": [
       "['*******', '*******', '*******', '*******', '*******', '*******', '*******']"
      ]
     },
     "execution_count": 12,
     "metadata": {},
     "output_type": "execute_result"
    }
   ],
   "source": [
    "'''\n",
    "You are given an integer n. Your task is to return a square pattern of size n x n made \n",
    "up of the character '*', represented as a list of strings.\n",
    "'''\n",
    "def generate_square(n):\n",
    "    \"\"\"\n",
    "    Function to return a square pattern of '*' of side n as a list of strings.\n",
    "    Parameters:\n",
    "    n (int): The size of the square.\n",
    "    Returns:\n",
    "    list: A list of strings where each string represents a row of the square.\n",
    "    \"\"\"\n",
    "    square=[]\n",
    "    for i in range(n):\n",
    "         square.append('*'*n)\n",
    "    return square\n",
    "generate_square(7)"
   ]
  },
  {
   "cell_type": "code",
   "execution_count": 10,
   "id": "807b7510-f182-41f0-b150-4b40bbf025c3",
   "metadata": {},
   "outputs": [
    {
     "data": {
      "text/plain": [
       "['****', '****', '****', '****']"
      ]
     },
     "execution_count": 10,
     "metadata": {},
     "output_type": "execute_result"
    }
   ],
   "source": [
    "generate_square(4)"
   ]
  },
  {
   "cell_type": "code",
   "execution_count": 15,
   "id": "8763c146-bd25-4dec-a160-46e86df9ceae",
   "metadata": {},
   "outputs": [
    {
     "data": {
      "text/plain": [
       "['*********',\n",
       " '*       *',\n",
       " '*       *',\n",
       " '*       *',\n",
       " '*       *',\n",
       " '*       *',\n",
       " '*       *',\n",
       " '*       *',\n",
       " '*********']"
      ]
     },
     "execution_count": 15,
     "metadata": {},
     "output_type": "execute_result"
    }
   ],
   "source": [
    " ##hollow square is a shape that looks like a box, but only its sides are drawn.\n",
    "'''\n",
    "You are given an integer n. Your task is to return a hollow square pattern of size n x n\n",
    "made up of the character '*', represented as a list of strings. The hollow square has '*' \n",
    "on the border, and spaces ' ' in the middle (except for side lengths of 1 and 2).\n",
    "'''\n",
    "def generate_hollow_square(n):\n",
    "    \"\"\"\n",
    "    Function to return a hollow square pattern of '*' of side n as a list of strings.\n",
    "    \n",
    "    Parameters:\n",
    "    n (int): The size of the square.\n",
    "    \n",
    "    Returns:\n",
    "    list: A list of strings where each string represents a row of the hollow square.\n",
    "    \"\"\"\n",
    "    # Your code here \n",
    "    square=[]\n",
    "    if n==1:\n",
    "        return['*']\n",
    "    square.append('*'*n)\n",
    "    for i in range(n-2):\n",
    "        square.append('*'+' '*(n-2)+'*')\n",
    "    square.append('*'*n)\n",
    "    return square\n",
    "generate_hollow_square(9)"
   ]
  },
  {
   "cell_type": "code",
   "execution_count": 6,
   "id": "b0a3dedf-b6fe-4ebe-b1a2-91545f33b716",
   "metadata": {},
   "outputs": [
    {
     "name": "stdin",
     "output_type": "stream",
     "text": [
      "Enter the number of rows (n):  6\n",
      "Enter the number of columns (m):  8\n"
     ]
    },
    {
     "name": "stdout",
     "output_type": "stream",
     "text": [
      "* * * * * * * * \n",
      "* * * * * * * * \n",
      "* * * * * * * * \n",
      "* * * * * * * * \n",
      "* * * * * * * * \n",
      "* * * * * * * * \n"
     ]
    }
   ],
   "source": [
    "n = int(input(\"Enter the number of rows (n): \"))\n",
    "m = int(input(\"Enter the number of columns (m): \"))\n",
    "for i in range(n):\n",
    "    print(\"* \" * m)"
   ]
  },
  {
   "cell_type": "code",
   "execution_count": 20,
   "id": "20f225f5-0827-4458-b285-1411ff9ca792",
   "metadata": {},
   "outputs": [
    {
     "data": {
      "text/plain": [
       "['*********',\n",
       " '*********',\n",
       " '*********',\n",
       " '*********',\n",
       " '*********',\n",
       " '*********',\n",
       " '*********',\n",
       " '*********']"
      ]
     },
     "execution_count": 20,
     "metadata": {},
     "output_type": "execute_result"
    }
   ],
   "source": [
    "## You can create the rectangle by iterating n times and, for each iteration, generating a string of m stars.\n",
    "def generate_rectangle(n, m):\n",
    "    \"\"\"\n",
    "    Function to return a rectangle pattern of '*' with length n and breadth m as a list of strings.\n",
    "    \n",
    "    Parameters:\n",
    "    n (int): The number of rows in the rectangle.\n",
    "    m (int): The number of columns in the rectangle.\n",
    "    \n",
    "    Returns:\n",
    "    list: A list of strings where each string represents a row of the rectangle pattern.\n",
    "    \"\"\"\n",
    "    # Your code here\n",
    "    rectangle=[ ]\n",
    "    for _ in range(n):\n",
    "           row='*'*m\n",
    "           rectangle.append(row)\n",
    "    return rectangle\n",
    "generate_rectangle(8,9)"
   ]
  },
  {
   "cell_type": "code",
   "execution_count": 1,
   "id": "b4015746-148c-4eaf-8bb2-c8501d02df96",
   "metadata": {},
   "outputs": [],
   "source": [
    "''' You are given an integer n. Your task is to return a right-angled triangle pattern of '*' \n",
    "where each side has n characters, represented as a list of strings. The triangle has '*' characters,\n",
    "starting with 1 star in the first row, 2 stars in the second row, and so on until the\n",
    "last row has n stars.'''\n",
    "def generate_triangle(n):\n",
    "    \"\"\"\n",
    "    Function to return a right-angled triangle of '*' of side n as a list of strings.\n",
    "    Parameters:\n",
    "    n (int): The height and base of the triangle.\n",
    "    Returns:\n",
    "    list: A list of strings where each string represents a row of the triangle.\n",
    "    \"\"\"\n",
    "    # Your code here\n",
    "    triangle = []\n",
    "    for i in range(1, n + 1):\n",
    "        triangle.append('*' * i)\n",
    "    return triangle\n"
   ]
  },
  {
   "cell_type": "code",
   "execution_count": 2,
   "id": "6c38167a-4b12-437b-8d05-48b2b015a1f9",
   "metadata": {},
   "outputs": [
    {
     "data": {
      "text/plain": [
       "['*',\n",
       " '**',\n",
       " '***',\n",
       " '****',\n",
       " '*****',\n",
       " '******',\n",
       " '*******',\n",
       " '********',\n",
       " '*********']"
      ]
     },
     "execution_count": 2,
     "metadata": {},
     "output_type": "execute_result"
    }
   ],
   "source": [
    "generate_triangle(9)"
   ]
  },
  {
   "cell_type": "code",
   "execution_count": 4,
   "id": "fb0068b2-1886-46e3-8888-19783449f9d5",
   "metadata": {},
   "outputs": [
    {
     "data": {
      "text/plain": [
       "['*********',\n",
       " '********',\n",
       " '*******',\n",
       " '******',\n",
       " '*****',\n",
       " '****',\n",
       " '***',\n",
       " '**',\n",
       " '*']"
      ]
     },
     "execution_count": 4,
     "metadata": {},
     "output_type": "execute_result"
    }
   ],
   "source": [
    "''' You are given an integer n. Your task is to return an inverted right-angled triangle pattern of '*'\n",
    "where each side has n characters, represented as a list of strings. The first row should have n stars,\n",
    "the second row n-1 stars, and so on, until the last row has 1 star. '''\n",
    "def generate_inverted_triangle(n):\n",
    "    \"\"\"\n",
    "    Function to return an inverted right-angled triangle of '*' of side n as a list of strings.\n",
    "    \n",
    "    Parameters:\n",
    "    n (int): The height and base of the triangle.\n",
    "    \n",
    "    Returns:\n",
    "    list: A list of strings where each string represents a row of the triangle.\n",
    "    \"\"\"\n",
    "    # Your code here\n",
    "    triangle=[]\n",
    "    for i in range(n,0,-1):\n",
    "        triangle.append('*'*i)\n",
    "    return triangle\n",
    "generate_inverted_triangle(9)"
   ]
  },
  {
   "cell_type": "code",
   "execution_count": 12,
   "id": "dd41cb0e-a25c-4d36-b527-5e97e5c16e94",
   "metadata": {},
   "outputs": [
    {
     "data": {
      "text/plain": [
       "range(8, 0, -1)"
      ]
     },
     "execution_count": 12,
     "metadata": {},
     "output_type": "execute_result"
    }
   ],
   "source": [
    "range(8,0,-1)"
   ]
  },
  {
   "cell_type": "code",
   "execution_count": 16,
   "id": "68aa6b1d-2061-4819-87c9-f0f63aec41e7",
   "metadata": {},
   "outputs": [
    {
     "data": {
      "text/plain": [
       "['     *     ',\n",
       " '    ***    ',\n",
       " '   *****   ',\n",
       " '  *******  ',\n",
       " ' ********* ',\n",
       " '***********']"
      ]
     },
     "execution_count": 16,
     "metadata": {},
     "output_type": "execute_result"
    }
   ],
   "source": [
    "'''You are given an integer n. Your task is to return a pyramid pattern of '*' where each side \n",
    "has n rows, represented as a list of strings. The pyramid is centered, with 1 star in the first \n",
    "row, 3 stars in the second row, and so on, increasing by 2 stars per row until the base row has\n",
    "2n - 1 stars '''\n",
    "def generate_pyramid(n):\n",
    "    \"\"\"\n",
    "    Function to return a pyramid pattern of '*' of side n as a list of strings.\n",
    "    \n",
    "    Parameters:\n",
    "    n (int): The number of rows in the pyramid.\n",
    "    \n",
    "    Returns:\n",
    "    list: A list of strings where each string represents a row of the pyramid.\n",
    "    \"\"\"\n",
    "    # Your code here\n",
    "    pyramid = []\n",
    "    for i in range(n):\n",
    "        stars = '*' * (2 * i + 1)\n",
    "        spaces = ' ' * (n - i - 1)\n",
    "        pyramid.append(spaces + stars + spaces)\n",
    "    return pyramid\n",
    "generate_pyramid(6)"
   ]
  },
  {
   "cell_type": "code",
   "execution_count": 17,
   "id": "167078f8-a7d3-49e6-81ea-2832d4b33c6d",
   "metadata": {},
   "outputs": [
    {
     "data": {
      "text/plain": [
       "['   *   ', '  ***  ', ' ***** ', '*******']"
      ]
     },
     "execution_count": 17,
     "metadata": {},
     "output_type": "execute_result"
    }
   ],
   "source": [
    "generate_pyramid(4)"
   ]
  },
  {
   "cell_type": "code",
   "execution_count": 19,
   "id": "df3d4c06-496f-4ba1-a106-a7d218968370",
   "metadata": {},
   "outputs": [
    {
     "data": {
      "text/plain": [
       "['*****************',\n",
       " ' *************** ',\n",
       " '  *************  ',\n",
       " '   ***********   ',\n",
       " '    *********    ',\n",
       " '     *******     ',\n",
       " '      *****      ',\n",
       " '       ***       ',\n",
       " '        *        ']"
      ]
     },
     "execution_count": 19,
     "metadata": {},
     "output_type": "execute_result"
    }
   ],
   "source": [
    "''' You are given an integer n. Your task is to return an inverted pyramid pattern of '*', \n",
    "where each side has n rows, represented as a list of strings. The first row has 2n - 1 stars,\n",
    "the second row has 2n - 3 stars, and so on, until the last row has 1 star, with each row centered\n",
    "using spaces. '''\n",
    "def generate_inverted_pyramid(n):\n",
    "    \"\"\"\n",
    "    Function to return an inverted pyramid pattern of '*' of side n as a list of strings.\n",
    "    \n",
    "    Parameters:\n",
    "    n (int): The number of rows in the inverted pyramid.\n",
    "    \n",
    "    Returns:\n",
    "    list: A list of strings where each string represents a row of the inverted pyramid.\n",
    "    \"\"\"\n",
    "    # Your code here\n",
    "    pyramid = []\n",
    "    for i in range(n):\n",
    "        stars = '*' * (2 * (n - i) - 1)\n",
    "        spaces = ' ' * i\n",
    "        pyramid.append(spaces + stars + spaces)\n",
    "    return pyramid\n",
    "generate_inverted_pyramid(9)"
   ]
  },
  {
   "cell_type": "code",
   "execution_count": 20,
   "id": "6b4a342f-a0ef-410c-9781-d5e31a1ba690",
   "metadata": {},
   "outputs": [
    {
     "data": {
      "text/plain": [
       "['*******', ' ***** ', '  ***  ', '   *   ']"
      ]
     },
     "execution_count": 20,
     "metadata": {},
     "output_type": "execute_result"
    }
   ],
   "source": [
    "generate_inverted_pyramid(4)"
   ]
  },
  {
   "cell_type": "code",
   "execution_count": 23,
   "id": "1d125916-18c6-4d81-8486-b7b9197145a2",
   "metadata": {},
   "outputs": [
    {
     "data": {
      "text/plain": [
       "['1',\n",
       " '22',\n",
       " '333',\n",
       " '4444',\n",
       " '55555',\n",
       " '666666',\n",
       " '7777777',\n",
       " '88888888',\n",
       " '999999999']"
      ]
     },
     "execution_count": 23,
     "metadata": {},
     "output_type": "execute_result"
    }
   ],
   "source": [
    "''' You are given an integer n. Your task is to return a right-angled triangle pattern where each row \n",
    "contains repeated digits. The first row contains the number 1 repeated once, the second row contains \n",
    "the number 2 repeated twice, and so on until the nth row contains the number n repeated n times. '''\n",
    "def generate_number_triangle(n):\n",
    "    \"\"\"\n",
    "    Function to return a right-angled triangle of repeated numbers of side n as a list of strings.\n",
    "    \n",
    "    Parameters:\n",
    "    n (int): The height of the triangle.\n",
    "    \n",
    "    Returns:\n",
    "    list: A list of strings where each string represents a row of the triangle.\n",
    "    \"\"\"\n",
    "    # Your code here\n",
    "    triangle = []\n",
    "    for i in range(1, n + 1):\n",
    "        triangle.append(str(i) * i)\n",
    "    return triangle\n",
    "generate_number_triangle(9)"
   ]
  },
  {
   "cell_type": "code",
   "execution_count": 24,
   "id": "dbd361e0-86fa-448d-bf7d-ad2b1ab62c3e",
   "metadata": {},
   "outputs": [],
   "source": [
    "''' You are given an integer n. Your task is to return the first n rows of Floyd’s Triangle, \n",
    "represented as a list of strings. Floyd's Triangle is a triangular array of natural numbers\n",
    "where the first row contains 1, the second row contains 2 and 3, the third row contains 4, 5, and 6, \n",
    "and so on. '''\n",
    "def generate_floyds_triangle(n):\n",
    "    \"\"\"\n",
    "    Function to return the first n rows of Floyd's Triangle as a list of strings.\n",
    "    \n",
    "    Parameters:\n",
    "    n (int): The number of rows in the triangle.\n",
    "    \n",
    "    Returns:\n",
    "    list: A list of strings where each string represents a row of Floyd's Triangle.\n",
    "    \"\"\"\n",
    "    # Your code here\n",
    "    triangle = []\n",
    "    current_number = 1\n",
    "    for i in range(1, n + 1):\n",
    "        row = ' '.join(str(current_number + j) for j in range(i))\n",
    "        triangle.append(row)\n",
    "        current_number += i\n",
    "    return triangle\n"
   ]
  },
  {
   "cell_type": "code",
   "execution_count": 25,
   "id": "ad4d7f10-cdf1-4e22-9d7e-60576b8d9b2a",
   "metadata": {},
   "outputs": [
    {
     "data": {
      "text/plain": [
       "['1',\n",
       " '2 3',\n",
       " '4 5 6',\n",
       " '7 8 9 10',\n",
       " '11 12 13 14 15',\n",
       " '16 17 18 19 20 21',\n",
       " '22 23 24 25 26 27 28',\n",
       " '29 30 31 32 33 34 35 36']"
      ]
     },
     "execution_count": 25,
     "metadata": {},
     "output_type": "execute_result"
    }
   ],
   "source": [
    "generate_floyds_triangle(8)"
   ]
  },
  {
   "cell_type": "code",
   "execution_count": 26,
   "id": "2f14b0ad-8e4f-4b9d-8912-e433f4ddc08d",
   "metadata": {},
   "outputs": [],
   "source": [
    "''' You are given an integer n. Your task is to return a diamond pattern of '*' with n rows for the\n",
    "upper part (the widest row will have 2n - 1 stars), and the lower part is the mirrored version of the \n",
    "upper part. Each row should be centered with appropriate spaces. '''\n",
    "def generate_diamond(n):\n",
    "    \"\"\"\n",
    "    Function to return a diamond pattern of '*' of side n as a list of strings.\n",
    "    \n",
    "    Parameters:\n",
    "    n (int): The number of rows for the upper part of the diamond.\n",
    "    \n",
    "    Returns:\n",
    "    list: A list of strings where each string represents a row of the diamond.\n",
    "    \"\"\"\n",
    "    # Your code here\n",
    "    diamond = []\n",
    "    # Generate the upper part of the diamond (including the middle row)\n",
    "    for i in range(1, n + 1):\n",
    "        # Number of stars in the current row is 2 * i - 1\n",
    "        stars = '*' * (2 * i - 1)\n",
    "        # Number of leading spaces to center the stars is n - i\n",
    "        spaces = ' ' * (n - i)\n",
    "        # Add the centered row to the list\n",
    "        diamond.append(spaces + stars + spaces)\n",
    "    # Generate the lower part of the diamond (mirrored upper part without the middle row)\n",
    "    for i in range(n - 1, 0, -1):\n",
    "        # Number of stars in the current row is 2 * i - 1\n",
    "        stars = '*' * (2 * i - 1)\n",
    "        # Number of leading spaces to center the stars is n - i\n",
    "        spaces = ' ' * (n - i)\n",
    "        # Add the centered row to the list\n",
    "        diamond.append(spaces + stars + spaces)\n",
    "    # Return the list of diamond rows\n",
    "    return diamond"
   ]
  },
  {
   "cell_type": "code",
   "execution_count": 27,
   "id": "f2957033-506c-4bc7-9a0a-b80e723b663d",
   "metadata": {},
   "outputs": [
    {
     "data": {
      "text/plain": [
       "['        *        ',\n",
       " '       ***       ',\n",
       " '      *****      ',\n",
       " '     *******     ',\n",
       " '    *********    ',\n",
       " '   ***********   ',\n",
       " '  *************  ',\n",
       " ' *************** ',\n",
       " '*****************',\n",
       " ' *************** ',\n",
       " '  *************  ',\n",
       " '   ***********   ',\n",
       " '    *********    ',\n",
       " '     *******     ',\n",
       " '      *****      ',\n",
       " '       ***       ',\n",
       " '        *        ']"
      ]
     },
     "execution_count": 27,
     "metadata": {},
     "output_type": "execute_result"
    }
   ],
   "source": [
    "generate_diamond(9)"
   ]
  },
  {
   "cell_type": "code",
   "execution_count": 29,
   "id": "fe193818-1e38-4c53-acc4-9051115b2733",
   "metadata": {},
   "outputs": [
    {
     "data": {
      "text/plain": [
       "['     *     ',\n",
       " '    ***    ',\n",
       " '   *****   ',\n",
       " '  *******  ',\n",
       " ' ********* ',\n",
       " '***********',\n",
       " ' ********* ',\n",
       " '  *******  ',\n",
       " '   *****   ',\n",
       " '    ***    ',\n",
       " '     *     ']"
      ]
     },
     "execution_count": 29,
     "metadata": {},
     "output_type": "execute_result"
    }
   ],
   "source": [
    "generate_diamond(6)"
   ]
  },
  {
   "cell_type": "code",
   "execution_count": 2,
   "id": "10e71158-4707-4033-8241-a345db1de612",
   "metadata": {},
   "outputs": [
    {
     "data": {
      "text/plain": [
       "['        *',\n",
       " '       **',\n",
       " '      ***',\n",
       " '     ****',\n",
       " '    *****',\n",
       " '   ******',\n",
       " '  *******',\n",
       " ' ********',\n",
       " '*********']"
      ]
     },
     "execution_count": 2,
     "metadata": {},
     "output_type": "execute_result"
    }
   ],
   "source": [
    "''' You are given an integer n. Your task is to return a right-angled triangle pattern of '*', where each\n",
    "row contains stars aligned to the right. The first row has one star, the second row has two stars, and so\n",
    "on, until the nth row has n stars. '''\n",
    "def generate_right_angled_triangle(n):\n",
    "    \"\"\"\n",
    "    Function to return a right-angled triangle of '*' of side n as a list of strings.\n",
    "    \n",
    "    Parameters:\n",
    "    n (int): The height of the triangle.\n",
    "    \n",
    "    Returns:\n",
    "    list: A list of strings where each string represents a row of the triangle.\n",
    "    \"\"\"\n",
    "    # Your code here\n",
    "    result = []\n",
    "    for i in range(1, n + 1):\n",
    "        # Create each row and append it to the result list\n",
    "        row = ' ' * (n - i) + '*' * i\n",
    "        result.append(row)\n",
    "    return result\n",
    "generate_right_angled_triangle(9)"
   ]
  },
  {
   "cell_type": "code",
   "execution_count": 4,
   "id": "b85e5fad-f868-406c-91a6-e6535afb957d",
   "metadata": {},
   "outputs": [
    {
     "data": {
      "text/plain": [
       "['***************',\n",
       " ' ************* ',\n",
       " '  ***********  ',\n",
       " '   *********   ',\n",
       " '    *******    ',\n",
       " '     *****     ',\n",
       " '      ***      ',\n",
       " '       *       ',\n",
       " '      ***      ',\n",
       " '     *****     ',\n",
       " '    *******    ',\n",
       " '   *********   ',\n",
       " '  ***********  ',\n",
       " ' ************* ',\n",
       " '***************']"
      ]
     },
     "execution_count": 4,
     "metadata": {},
     "output_type": "execute_result"
    }
   ],
   "source": [
    "''' You are given an integer n. Your task is to return a sandglass pattern of '*', where the first row \n",
    "contains 2n - 1 stars and each subsequent row decreases the number of stars by 2, until the last row \n",
    "contains a single star. After reaching the smallest width, the pattern then continues with the same\n",
    "number of stars increasing back to 2n - 1. The stars in each row should be centered. '''\n",
    "def generate_sandglass(n):\n",
    "    \"\"\"\n",
    "    Function to return a sandglass pattern of '*' of side n as a list of strings.\n",
    "    \n",
    "    Parameters:\n",
    "    n (int): The height of the sandglass.\n",
    "    \n",
    "    Returns:\n",
    "    list: A list of strings where each string represents a row of the sandglass pattern.\n",
    "    \"\"\"\n",
    "    # Your code here\n",
    "    result = []\n",
    "    # Generate the decreasing part of the pattern\n",
    "    for i in range(n):\n",
    "        stars = '*' * (2 * (n - i) - 1)\n",
    "        row = stars.center(2 * n - 1)\n",
    "        result.append(row)\n",
    "    # Generate the increasing part of the pattern\n",
    "    for i in range(1, n):\n",
    "        stars = '*' * (2 * i + 1)\n",
    "        row = stars.center(2 * n - 1)\n",
    "        result.append(row)\n",
    "    return result\n",
    "generate_sandglass(8)\n"
   ]
  },
  {
   "cell_type": "code",
   "execution_count": 6,
   "id": "a2bb17bf-24dd-48fd-a5ea-4d822dd4aae1",
   "metadata": {},
   "outputs": [
    {
     "data": {
      "text/plain": [
       "['*',\n",
       " '**',\n",
       " '* *',\n",
       " '*  *',\n",
       " '*   *',\n",
       " '*    *',\n",
       " '*     *',\n",
       " '*      *',\n",
       " '*********']"
      ]
     },
     "execution_count": 6,
     "metadata": {},
     "output_type": "execute_result"
    }
   ],
   "source": [
    "''' You are given an integer n. Your task is to return a hollow right-angled triangle pattern of '*',\n",
    "where the first and last rows contain stars, while the inner rows contain a star at the beginning and\n",
    "end, with spaces in between. The triangle should be right-aligned. '''\n",
    "def generate_hollow_right_angled_triangle(n):\n",
    "    \"\"\"\n",
    "    Function to return a hollow right-angled triangle of '*' of side n as a list of strings.\n",
    "    \n",
    "    Parameters:\n",
    "    n (int): The height of the triangle.\n",
    "    \n",
    "    Returns:\n",
    "    list: A list of strings where each string represents a row of the triangle.\n",
    "    \"\"\"\n",
    "    # Your code here\n",
    "    result = []\n",
    "    for i in range(1, n + 1):\n",
    "        if i == 1:  # First row\n",
    "            result.append('*')\n",
    "        elif i == n:  # Last row\n",
    "            result.append('*' * i)\n",
    "        else:  # Inner rows\n",
    "            result.append('*' + ' ' * (i - 2) + '*')\n",
    "    return result\n",
    "generate_hollow_right_angled_triangle(9)"
   ]
  },
  {
   "cell_type": "code",
   "execution_count": 10,
   "id": "02194fc2-1cc7-4583-ac18-01463aacd3dc",
   "metadata": {},
   "outputs": [
    {
     "data": {
      "text/plain": [
       "['*',\n",
       " '**',\n",
       " '* *',\n",
       " '*  *',\n",
       " '*   *',\n",
       " '*    *',\n",
       " '*     *',\n",
       " '*      *',\n",
       " '*********']"
      ]
     },
     "execution_count": 10,
     "metadata": {},
     "output_type": "execute_result"
    }
   ],
   "source": [
    "''' You are given an integer n. Your task is to return a hollow inverted right-angled triangle pattern\n",
    "of '*', where the first row contains n stars, while the inner rows contain a star at the beginning and\n",
    "end, with spaces in between. The triangle should be left-aligned.'''\n",
    "def generate_hollow_right_angled_triangle(n):\n",
    "    \"\"\"\n",
    "    Function to return a hollow right-angled triangle of '*' of side n as a list of strings.\n",
    "    \n",
    "    Parameters:\n",
    "    n (int): The height of the triangle.\n",
    "    \n",
    "    Returns:\n",
    "    list: A list of strings where each string represents a row of the triangle.\n",
    "    \"\"\"\n",
    "    # Your code here\n",
    "    result = []\n",
    "    for i in range(1, n + 1):\n",
    "        if i == 1:  # First row\n",
    "            result.append('*')\n",
    "        elif i == n:  # Last row\n",
    "            result.append('*' * i)\n",
    "        else:  # Inner rows\n",
    "            result.append('*' + ' ' * (i - 2) + '*')\n",
    "    return result\n",
    "generate_hollow_right_angled_triangle(9)"
   ]
  },
  {
   "cell_type": "code",
   "execution_count": 13,
   "id": "7ae10c7c-4136-4273-ae9c-41d39a43402a",
   "metadata": {},
   "outputs": [
    {
     "data": {
      "text/plain": [
       "['        1        ',\n",
       " '       1 2       ',\n",
       " '      1 2 3      ',\n",
       " '     1 2 3 4     ',\n",
       " '    1 2 3 4 5    ',\n",
       " '   1 2 3 4 5 6   ',\n",
       " '  1 2 3 4 5 6 7  ',\n",
       " ' 1 2 3 4 5 6 7 8 ',\n",
       " '1 2 3 4 5 6 7 8 9']"
      ]
     },
     "execution_count": 13,
     "metadata": {},
     "output_type": "execute_result"
    }
   ],
   "source": [
    "''' You are given an integer n. Your task is to return a pyramid pattern of numbers, where each row \n",
    "contains increasing numbers starting from 1 up to the row number, and the pyramid is centered with\n",
    "leading spaces. '''\n",
    "def generate_number_pyramid(n):\n",
    "    \"\"\"\n",
    "    Function to return a pyramid pattern of numbers of height n as a list of strings.\n",
    "    \n",
    "    Parameters:\n",
    "    n (int): The height of the pyramid.\n",
    "    \n",
    "    Returns:\n",
    "    list: A list of strings where each string represents a row of the pyramid pattern.\n",
    "    \"\"\"\n",
    "    # Your code here\n",
    "    result = []\n",
    "    for i in range(1, n + 1):\n",
    "        # Create the row with spaces between numbers\n",
    "        numbers = ' '.join(str(j) for j in range(1, i + 1))\n",
    "        # Center the row with spaces\n",
    "        row = numbers.center(2 * n - 1)\n",
    "        result.append(row)\n",
    "    return result\n",
    "generate_number_pyramid(9)"
   ]
  },
  {
   "cell_type": "code",
   "execution_count": 15,
   "id": "b880191f-8891-4e76-aff9-d331095bf62e",
   "metadata": {},
   "outputs": [
    {
     "data": {
      "text/plain": [
       "['   1   ', '  1 2  ', ' 1 2 3 ', '1 2 3 4']"
      ]
     },
     "execution_count": 15,
     "metadata": {},
     "output_type": "execute_result"
    }
   ],
   "source": [
    "generate_number_pyramid(4)"
   ]
  },
  {
   "cell_type": "code",
   "execution_count": null,
   "id": "fa4a8674-b4f6-4338-98e7-52c8ba255c10",
   "metadata": {},
   "outputs": [],
   "source": []
  }
 ],
 "metadata": {
  "kernelspec": {
   "display_name": "Python 3 (ipykernel)",
   "language": "python",
   "name": "python3"
  },
  "language_info": {
   "codemirror_mode": {
    "name": "ipython",
    "version": 3
   },
   "file_extension": ".py",
   "mimetype": "text/x-python",
   "name": "python",
   "nbconvert_exporter": "python",
   "pygments_lexer": "ipython3",
   "version": "3.13.0"
  }
 },
 "nbformat": 4,
 "nbformat_minor": 5
}
